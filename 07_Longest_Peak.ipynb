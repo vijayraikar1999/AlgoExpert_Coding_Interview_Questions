{
 "cells": [
  {
   "cell_type": "markdown",
   "id": "aaf27bc0",
   "metadata": {},
   "source": [
    "### Problem:\n",
    "<p style=\"font-size:120%\">Given an array of length N , find out the the Longest Peak in the array.<br><br>\n",
    "A peak could be the subarray of array where a number is maximum among all the values in array and all the values to the left side of that subarray are less than the max number and values in the right side are also less then max values.<br><br>\n",
    "Ex. <br>\n",
    "    arr = [1, 2, 3, 3, 4, 0, 10, 6, 5, -1, -3, 2, 3]<br><br>\n",
    "    here, we have two peaks available in given array:<br><br>\n",
    "    one is: 3, 4, 0 <br><br>\n",
    "    second is: 0, 10, 6, 5, -1, -3\n",
    "    <br><br>\n",
    "    answer for this example will be 6.\n",
    "    \n",
    "</p>"
   ]
  },
  {
   "cell_type": "code",
   "execution_count": 4,
   "id": "dfbf73ab",
   "metadata": {},
   "outputs": [],
   "source": [
    "def longestPeak(arr):\n",
    "    longestPeakLength = 0\n",
    "    i = 1\n",
    "    while i < len(arr) - 1:\n",
    "        isPeak = arr[i-1] < arr[i] and arr[i] > arr[i+1]\n",
    "        if not isPeak:\n",
    "            i += 1\n",
    "            continue\n",
    "            \n",
    "        leftIndex = i - 2\n",
    "        while leftIndex >= 0 and arr[leftIndex] < arr[leftIndex + 1]:\n",
    "            leftIndex -= 1\n",
    "            \n",
    "        rightIndex = i + 2\n",
    "        while rightIndex < len(arr) and arr[rightIndex] < arr[rightIndex - 1]:\n",
    "            rightIndex += 1\n",
    "            \n",
    "        currentPeakLength = rightIndex - leftIndex - 1\n",
    "        longestPeakLength = max(longestPeakLength, currentPeakLength)\n",
    "        i = rightIndex\n",
    "        \n",
    "    return longestPeakLength\n"
   ]
  },
  {
   "cell_type": "code",
   "execution_count": 5,
   "id": "374694df",
   "metadata": {},
   "outputs": [
    {
     "data": {
      "text/plain": [
       "6"
      ]
     },
     "execution_count": 5,
     "metadata": {},
     "output_type": "execute_result"
    }
   ],
   "source": [
    "arr = [1, 2, 3, 3, 4, 0, 10, 6, 5, -1, -3, 2, 3]\n",
    "longestPeak(arr)"
   ]
  },
  {
   "cell_type": "markdown",
   "id": "7e818131",
   "metadata": {},
   "source": [
    "### Time Complexity - O(N)\n",
    "### Space Compexity - O(1)"
   ]
  },
  {
   "cell_type": "code",
   "execution_count": null,
   "id": "d6ee39d8",
   "metadata": {},
   "outputs": [],
   "source": []
  }
 ],
 "metadata": {
  "kernelspec": {
   "display_name": "Python 3 (ipykernel)",
   "language": "python",
   "name": "python3"
  },
  "language_info": {
   "codemirror_mode": {
    "name": "ipython",
    "version": 3
   },
   "file_extension": ".py",
   "mimetype": "text/x-python",
   "name": "python",
   "nbconvert_exporter": "python",
   "pygments_lexer": "ipython3",
   "version": "3.8.10"
  }
 },
 "nbformat": 4,
 "nbformat_minor": 5
}
