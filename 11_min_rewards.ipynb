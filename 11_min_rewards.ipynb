{
 "cells": [
  {
   "cell_type": "markdown",
   "id": "9763f9d8",
   "metadata": {},
   "source": [
    "### Problem: \n",
    "<p style=\"font-size:113%\">Given an array of distinct integer number which represents the marks obtained by students in an exam. You need to give some candy to each student such that any student who has gotten greater marks than the student next or before to it, should get more number of candy than that student next or before to it.<br>\n",
    "You need to give reward following this condition such that you will distribute miminum number of candy needed. \n",
    "<br><br>    \n",
    "Ex.<br>\n",
    "   arr = [8, 4, 2, 1, 3, 6, 7, 9, 5]<br>\n",
    "   ans = [4, 3, 2, 1, 2, 3, 4, 5, 1]<br>\n",
    "   minimim number of candy = 25 \n",
    "    \n",
    "   \n",
    "</p>"
   ]
  },
  {
   "cell_type": "code",
   "execution_count": 12,
   "id": "9604cc61",
   "metadata": {},
   "outputs": [
    {
     "name": "stdout",
     "output_type": "stream",
     "text": [
      "answer list: [4, 3, 2, 1, 2, 3, 4, 5, 1]\n",
      "sum: 25\n"
     ]
    }
   ],
   "source": [
    "arr = [8, 4, 2, 1, 3, 6, 7, 9, 5]\n",
    "n = len(arr)\n",
    "pair_arr = []\n",
    "for i, ele in enumerate(arr):\n",
    "    pair_arr.append((ele, i))\n",
    "    \n",
    "pair_arr.sort()\n",
    "ans_list = [0] * n\n",
    "\n",
    "for i in range(n):\n",
    "    value = pair_arr[i][0]\n",
    "    index = pair_arr[i][1]\n",
    "    min_reward = 1\n",
    "    ans_list[index] = min_reward\n",
    "    if index + 1 < n and value > arr[index + 1]:\n",
    "        min_reward = max(min_reward, ans_list[index + 1]) + 1\n",
    "    if index - 1 > 0 and value > arr[index - 1]:\n",
    "        min_reward = max(min_reward, ans_list[index - 1]) + 1\n",
    "        \n",
    "    ans_list[index] = min_reward    \n",
    "        \n",
    "print(f'answer list: {ans_list}')\n",
    "print(f'sum: {sum(ans_list)}')"
   ]
  },
  {
   "cell_type": "code",
   "execution_count": null,
   "id": "885acbc2",
   "metadata": {},
   "outputs": [],
   "source": []
  },
  {
   "cell_type": "code",
   "execution_count": null,
   "id": "0b723903",
   "metadata": {},
   "outputs": [],
   "source": []
  }
 ],
 "metadata": {
  "kernelspec": {
   "display_name": "Python 3 (ipykernel)",
   "language": "python",
   "name": "python3"
  },
  "language_info": {
   "codemirror_mode": {
    "name": "ipython",
    "version": 3
   },
   "file_extension": ".py",
   "mimetype": "text/x-python",
   "name": "python",
   "nbconvert_exporter": "python",
   "pygments_lexer": "ipython3",
   "version": "3.8.10"
  }
 },
 "nbformat": 4,
 "nbformat_minor": 5
}
