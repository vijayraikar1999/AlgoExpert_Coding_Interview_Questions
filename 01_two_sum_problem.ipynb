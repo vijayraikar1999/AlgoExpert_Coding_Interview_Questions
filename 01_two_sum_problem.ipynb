{
 "cells": [
  {
   "cell_type": "markdown",
   "id": "606ca50d",
   "metadata": {},
   "source": [
    "### LeetCode link: https://leetcode.com/problems/two-sum/"
   ]
  },
  {
   "cell_type": "code",
   "execution_count": 16,
   "id": "53d391a2",
   "metadata": {},
   "outputs": [],
   "source": [
    "# This is brute force approach with complexity O(n^2) \n",
    "def two_number_sum(arr, sum_value):\n",
    "    n = len(arr)\n",
    "    for i, num in enumerate(arr):\n",
    "        x = sum_value - num\n",
    "        for j in range(i+1, n):\n",
    "            if arr[j] == x:\n",
    "                return list([num, arr[j]])\n",
    "            "
   ]
  },
  {
   "cell_type": "code",
   "execution_count": 17,
   "id": "2606c012",
   "metadata": {},
   "outputs": [
    {
     "name": "stdout",
     "output_type": "stream",
     "text": [
      "[11, -1]\n"
     ]
    }
   ],
   "source": [
    "arr = [3, 5, -4, 8, 11, 1, -1, 6]\n",
    "k = 10\n",
    "print(two_number_sum(arr, k))"
   ]
  },
  {
   "cell_type": "markdown",
   "id": "795f4fdb",
   "metadata": {},
   "source": [
    "### Better Solution:\n",
    "For better solution we need undestand that we don't have to iterate the rest of the array just after calculating the value of x,\n",
    "\n",
    "here what we can do is , we can store the index of all of element first , then use those stored value while we are iterating the array, and then for finding the value of arr[j](sum - x) we won't have iterate again, because we already have stored the indexes for all the value."
   ]
  },
  {
   "cell_type": "code",
   "execution_count": 21,
   "id": "4f61295b",
   "metadata": {},
   "outputs": [],
   "source": [
    "def two_number_sum_improved(arr, sum_value):\n",
    "    indexDict = {}\n",
    "\n",
    "  # storing the indexes of all the values\n",
    "    for index, value in enumerate(arr):\n",
    "        \n",
    "        # Taking care of those condition where array can have two element with same value\n",
    "        if (value in indexDict) and arr[i]*2 == sum_value:\n",
    "            return [indexDict[value], index]\n",
    "    \n",
    "        # storing index of value\n",
    "        indexDict[value] = index\n",
    "    \n",
    "    # finding the pair of index for target sum\n",
    "    for index, value in enumerate(arr):\n",
    "        x = sum_value - value\n",
    "        if indexDict.get(x) and x*2 != sum_value:\n",
    "            return [indexDict[value], indexDict[x]]\n",
    "   "
   ]
  },
  {
   "cell_type": "code",
   "execution_count": 23,
   "id": "2b9f63c0",
   "metadata": {},
   "outputs": [
    {
     "data": {
      "text/plain": [
       "[4, 6]"
      ]
     },
     "execution_count": 23,
     "metadata": {},
     "output_type": "execute_result"
    }
   ],
   "source": [
    "# Here we are returning indexes\n",
    "two_number_sum_improved(arr, k)\n",
    "\n",
    "# For vaue just return arr[index]"
   ]
  },
  {
   "cell_type": "code",
   "execution_count": null,
   "id": "14a07206",
   "metadata": {},
   "outputs": [],
   "source": []
  }
 ],
 "metadata": {
  "kernelspec": {
   "display_name": "Python 3 (ipykernel)",
   "language": "python",
   "name": "python3"
  },
  "language_info": {
   "codemirror_mode": {
    "name": "ipython",
    "version": 3
   },
   "file_extension": ".py",
   "mimetype": "text/x-python",
   "name": "python",
   "nbconvert_exporter": "python",
   "pygments_lexer": "ipython3",
   "version": "3.8.10"
  }
 },
 "nbformat": 4,
 "nbformat_minor": 5
}
