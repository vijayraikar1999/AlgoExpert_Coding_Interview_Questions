{
 "cells": [
  {
   "cell_type": "markdown",
   "id": "1b6a8362",
   "metadata": {},
   "source": [
    "### Problem\n",
    "Given an array of positive integer which represents the denomination available to make change for the given amount of Money. Find out the number of ways to make change for the Target amount.\n",
    "\n",
    "ex. arr = [1, 5, 10, 25],\n",
    "    target = 10\n",
    "    \n",
    "    number of ways to make change for 10 dollors:\n",
    "    1 * 10\n",
    "    1 * 5 + 5 * 1\n",
    "    5 * 2\n",
    "    10 * 1\n",
    "    \n",
    "    ans = 4"
   ]
  },
  {
   "cell_type": "code",
   "execution_count": 1,
   "id": "967e4f58",
   "metadata": {},
   "outputs": [],
   "source": [
    "def number_of_ways_to_make_change(denom_arr, target):\n",
    "    ways = [0 for amount in range(target + 1)]\n",
    "    ways[0] = 1\n",
    "    \n",
    "    for denom in denom_arr:\n",
    "        for amount in range(1, target + 1):\n",
    "            if denom <= amount:\n",
    "                ways[amount] = ways[amount] + ways[amount - denom]\n",
    "                \n",
    "    return ways[target]\n"
   ]
  },
  {
   "cell_type": "code",
   "execution_count": 2,
   "id": "9a4583f7",
   "metadata": {},
   "outputs": [],
   "source": [
    "arr = [1, 5, 10, 25]\n",
    "target = 10"
   ]
  },
  {
   "cell_type": "code",
   "execution_count": 3,
   "id": "32cc2dec",
   "metadata": {},
   "outputs": [
    {
     "data": {
      "text/plain": [
       "4"
      ]
     },
     "execution_count": 3,
     "metadata": {},
     "output_type": "execute_result"
    }
   ],
   "source": [
    "number_of_ways_to_make_change(arr, target)"
   ]
  },
  {
   "cell_type": "markdown",
   "id": "578ffd56",
   "metadata": {},
   "source": [
    "#### Time Complexity =  O(n * d)\n",
    "     where n = number of denominations available\n",
    "           d = target value\n",
    "           \n",
    "#### Space Complexity = O(n)           "
   ]
  },
  {
   "cell_type": "code",
   "execution_count": null,
   "id": "f6f77c09",
   "metadata": {},
   "outputs": [],
   "source": []
  }
 ],
 "metadata": {
  "kernelspec": {
   "display_name": "Python 3 (ipykernel)",
   "language": "python",
   "name": "python3"
  },
  "language_info": {
   "codemirror_mode": {
    "name": "ipython",
    "version": 3
   },
   "file_extension": ".py",
   "mimetype": "text/x-python",
   "name": "python",
   "nbconvert_exporter": "python",
   "pygments_lexer": "ipython3",
   "version": "3.8.10"
  }
 },
 "nbformat": 4,
 "nbformat_minor": 5
}
