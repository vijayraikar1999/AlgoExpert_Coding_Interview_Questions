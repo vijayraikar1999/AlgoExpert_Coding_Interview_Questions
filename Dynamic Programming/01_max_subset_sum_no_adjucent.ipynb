{
 "cells": [
  {
   "cell_type": "markdown",
   "id": "e2102ad2",
   "metadata": {},
   "source": [
    "### Problem:\n",
    "Given an array of positive integer number and find out the maximum sum subset with with no adjecent number.\n",
    "\n",
    "ex. arr = [7, 10, 12, 7, 9, 14]\n",
    "\n",
    "ans = 7 + 12 + 14 = 33"
   ]
  },
  {
   "cell_type": "code",
   "execution_count": 1,
   "id": "90cda95a",
   "metadata": {},
   "outputs": [],
   "source": [
    "def max_subset_sum_no_adjecent(arr):\n",
    "    n = len(arr)\n",
    "    sum_arr = [0 for i in range(n)]\n",
    "    max_sum = float('-inf')\n",
    "    \n",
    "    for i in range(n):\n",
    "        if i == 0 or i == 1:\n",
    "            sum_arr[i] = arr[i]\n",
    "        else:\n",
    "            sum_arr[i] = max(sum_arr[i - 1], sum_arr[i - 2] + arr[i])\n",
    "        \n",
    "        if sum_arr[i] > max_sum:\n",
    "            max_sum = sum_arr[i]\n",
    "            \n",
    "    return max_sum\n"
   ]
  },
  {
   "cell_type": "code",
   "execution_count": 2,
   "id": "b6df683a",
   "metadata": {},
   "outputs": [],
   "source": [
    "arr = [7, 10, 12, 7, 9, 14]"
   ]
  },
  {
   "cell_type": "code",
   "execution_count": 3,
   "id": "7142cb3e",
   "metadata": {},
   "outputs": [
    {
     "data": {
      "text/plain": [
       "33"
      ]
     },
     "execution_count": 3,
     "metadata": {},
     "output_type": "execute_result"
    }
   ],
   "source": [
    "max_subset_sum_no_adjecent(arr)"
   ]
  },
  {
   "cell_type": "code",
   "execution_count": null,
   "id": "f1738190",
   "metadata": {},
   "outputs": [],
   "source": []
  }
 ],
 "metadata": {
  "kernelspec": {
   "display_name": "Python 3 (ipykernel)",
   "language": "python",
   "name": "python3"
  },
  "language_info": {
   "codemirror_mode": {
    "name": "ipython",
    "version": 3
   },
   "file_extension": ".py",
   "mimetype": "text/x-python",
   "name": "python",
   "nbconvert_exporter": "python",
   "pygments_lexer": "ipython3",
   "version": "3.8.10"
  }
 },
 "nbformat": 4,
 "nbformat_minor": 5
}
