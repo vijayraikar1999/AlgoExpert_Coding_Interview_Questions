{
 "cells": [
  {
   "cell_type": "markdown",
   "id": "ab26aef0",
   "metadata": {},
   "source": [
    "## Problem: \n",
    "<p style=\"font-size:112%\">Given two array of N elements in each, you need to find out the pair of two numbers such that the difference between them is minimum. difference mean take the absoulute difference, don't worry about about sign.</p>"
   ]
  },
  {
   "cell_type": "markdown",
   "id": "d4385d3f",
   "metadata": {},
   "source": [
    "### Solution - 1: Brute Force Approach\n",
    "<p style=\"font-size:112%\">The simplest way to solve this problem is to just find each possible pair and see whose diffence is smallest.</p>"
   ]
  },
  {
   "cell_type": "code",
   "execution_count": 15,
   "id": "65625dd9",
   "metadata": {},
   "outputs": [],
   "source": [
    "def smallest_difference(arr1, arr2):\n",
    "    smallest_distance = float('inf')\n",
    "    ans_pair = (0, 0)\n",
    "    \n",
    "    for x in arr1:\n",
    "        for y in arr2:\n",
    "            if abs(x - y) < smallest_distance:\n",
    "                smallest_distance = abs(x - y)\n",
    "                ans_pair = (x, y)\n",
    "                \n",
    "    return ans_pair            \n",
    "            "
   ]
  },
  {
   "cell_type": "code",
   "execution_count": 14,
   "id": "cda85bfb",
   "metadata": {},
   "outputs": [
    {
     "name": "stdout",
     "output_type": "stream",
     "text": [
      "(28, 26)\n"
     ]
    }
   ],
   "source": [
    "arr1 = [-1, 5, 10, 20, 28, 3]\n",
    "arr2 = [26, 134, 135, 15, 17]\n",
    "\n",
    "print(smallest_difference(arr1, arr2))"
   ]
  },
  {
   "cell_type": "markdown",
   "id": "047e9650",
   "metadata": {},
   "source": [
    "<p style=\"font-size:112%\">Time complexity of this algorithm is O(n^2), which is not the best time complexity to solve this problem.\n",
    "<br><br>\n",
    "Let's try to do something better.\n",
    "</p>"
   ]
  },
  {
   "cell_type": "markdown",
   "id": "259cce36",
   "metadata": {},
   "source": [
    "### Solution - 2: Use Binary Search and Sorting\n",
    "<p style=\"font-size:112%\">\n",
    "step-1: Sort one of the arrays.<br>\n",
    "step-2: pick first value from the second array, and then try to find out the colsest number to that value using binary search.\n",
    "step-2: pick next value from second array, and repeat the step-2 for this and for the rest of the number too.    \n",
    "</p>"
   ]
  },
  {
   "cell_type": "code",
   "execution_count": 27,
   "id": "72eca553",
   "metadata": {},
   "outputs": [],
   "source": [
    "def smallest_difference_improved(arr1, arr2):\n",
    "    arr2.sort()\n",
    "    n = len(arr2) - 1\n",
    "    \n",
    "    min_value = float('inf')\n",
    "    \n",
    "    ans_pair = (0, 0)\n",
    "    \n",
    "    for value in arr1:\n",
    "        start = 0\n",
    "        end = n-1\n",
    "        while start < end:\n",
    "            mid = (start + end) // 2\n",
    "            curr_min = abs(arr2[mid] - value)\n",
    "            \n",
    "            if curr_min < min_value:\n",
    "                min_value = curr_min\n",
    "                ans_pair = (value, arr2[mid])\n",
    "                \n",
    "            print(f'start: {start}, mid: {mid}, end: {end}, ans_pair: {ans_pair}')    \n",
    "            \n",
    "            if arr2[mid] > value:\n",
    "                end = mid\n",
    "            else:\n",
    "                start = mid + 1\n",
    "                \n",
    "    return ans_pair      \n",
    "            "
   ]
  },
  {
   "cell_type": "code",
   "execution_count": 28,
   "id": "83df23bc",
   "metadata": {},
   "outputs": [
    {
     "name": "stdout",
     "output_type": "stream",
     "text": [
      "start: 0, mid: 1, end: 3, ans_pair: (-1, 17)\n",
      "start: 0, mid: 0, end: 1, ans_pair: (-1, 15)\n",
      "start: 0, mid: 1, end: 3, ans_pair: (5, 17)\n",
      "start: 0, mid: 0, end: 1, ans_pair: (5, 15)\n",
      "start: 0, mid: 1, end: 3, ans_pair: (10, 17)\n",
      "start: 0, mid: 0, end: 1, ans_pair: (10, 15)\n",
      "start: 0, mid: 1, end: 3, ans_pair: (20, 17)\n",
      "start: 2, mid: 2, end: 3, ans_pair: (20, 17)\n",
      "start: 0, mid: 1, end: 3, ans_pair: (20, 17)\n",
      "start: 2, mid: 2, end: 3, ans_pair: (28, 26)\n",
      "start: 0, mid: 1, end: 3, ans_pair: (28, 26)\n",
      "start: 0, mid: 0, end: 1, ans_pair: (28, 26)\n",
      "(28, 26)\n"
     ]
    }
   ],
   "source": [
    "print(smallest_difference_improved(arr1, arr2))"
   ]
  },
  {
   "cell_type": "markdown",
   "id": "98395111",
   "metadata": {},
   "source": [
    "<p style=\"font-size:112%\">Since we are doing binary search for each element in arr1, so the time complexity for this algorith is: n * log(n) = (n)log(n)</p>"
   ]
  },
  {
   "cell_type": "markdown",
   "id": "af415ff1",
   "metadata": {},
   "source": [
    "#### Soltution in case of more than one possible pair"
   ]
  },
  {
   "cell_type": "code",
   "execution_count": 29,
   "id": "f3fa0a98",
   "metadata": {},
   "outputs": [],
   "source": [
    "arr1 = [-1, 5, 10, 20, 28, 3, 35]\n",
    "arr2 = [26, 134, 135, 37, 15, 17]"
   ]
  },
  {
   "cell_type": "code",
   "execution_count": 38,
   "id": "52647943",
   "metadata": {},
   "outputs": [],
   "source": [
    "def smallest_difference_improved1(arr1, arr2):\n",
    "    arr2.sort()\n",
    "    n = len(arr2)\n",
    "    \n",
    "    min_value = float('inf')\n",
    "    \n",
    "    ans_pair_list = []\n",
    "    \n",
    "    \n",
    "    for value in arr1:\n",
    "        start = 0\n",
    "        end = n-1\n",
    "        while start < end:\n",
    "            mid = (start + end) // 2\n",
    "            curr_min = abs(arr2[mid] - value)\n",
    "            \n",
    "            if curr_min < min_value:\n",
    "                min_value = curr_min\n",
    "                \n",
    "            \n",
    "            if arr2[mid] > value:\n",
    "                end = mid\n",
    "            else:\n",
    "                start = mid + 1\n",
    "                \n",
    "    for value in arr1:\n",
    "        start = 0\n",
    "        end = n-1\n",
    "        while start < end:\n",
    "            mid = (start + end) // 2\n",
    "            curr_min = abs(arr2[mid] - value)\n",
    "            \n",
    "            if curr_min == min_value:\n",
    "                ans_pair_list.append([value, arr2[mid]])\n",
    "            \n",
    "                \n",
    "            print(f'start: {start}, mid: {mid}, end: {end}, min_value: {min_value}, ans_pair_list: {ans_pair_list}')    \n",
    "            \n",
    "            if arr2[mid] > value:\n",
    "                end = mid\n",
    "            else:\n",
    "                start = mid + 1            \n",
    "                \n",
    "    return ans_pair_list      "
   ]
  },
  {
   "cell_type": "code",
   "execution_count": 39,
   "id": "96287fb8",
   "metadata": {},
   "outputs": [
    {
     "name": "stdout",
     "output_type": "stream",
     "text": [
      "start: 0, mid: 2, end: 5, min_value: 2, ans_pair_list: []\n",
      "start: 0, mid: 1, end: 2, min_value: 2, ans_pair_list: []\n",
      "start: 0, mid: 0, end: 1, min_value: 2, ans_pair_list: []\n",
      "start: 0, mid: 2, end: 5, min_value: 2, ans_pair_list: []\n",
      "start: 0, mid: 1, end: 2, min_value: 2, ans_pair_list: []\n",
      "start: 0, mid: 0, end: 1, min_value: 2, ans_pair_list: []\n",
      "start: 0, mid: 2, end: 5, min_value: 2, ans_pair_list: []\n",
      "start: 0, mid: 1, end: 2, min_value: 2, ans_pair_list: []\n",
      "start: 0, mid: 0, end: 1, min_value: 2, ans_pair_list: []\n",
      "start: 0, mid: 2, end: 5, min_value: 2, ans_pair_list: []\n",
      "start: 0, mid: 1, end: 2, min_value: 2, ans_pair_list: []\n",
      "start: 0, mid: 2, end: 5, min_value: 2, ans_pair_list: [[28, 26]]\n",
      "start: 3, mid: 4, end: 5, min_value: 2, ans_pair_list: [[28, 26]]\n",
      "start: 3, mid: 3, end: 4, min_value: 2, ans_pair_list: [[28, 26]]\n",
      "start: 0, mid: 2, end: 5, min_value: 2, ans_pair_list: [[28, 26]]\n",
      "start: 0, mid: 1, end: 2, min_value: 2, ans_pair_list: [[28, 26]]\n",
      "start: 0, mid: 0, end: 1, min_value: 2, ans_pair_list: [[28, 26]]\n",
      "start: 0, mid: 2, end: 5, min_value: 2, ans_pair_list: [[28, 26]]\n",
      "start: 3, mid: 4, end: 5, min_value: 2, ans_pair_list: [[28, 26]]\n",
      "start: 3, mid: 3, end: 4, min_value: 2, ans_pair_list: [[28, 26], [35, 37]]\n",
      "[[28, 26], [35, 37]]\n"
     ]
    }
   ],
   "source": [
    "print(smallest_difference_improved1(arr1, arr2))"
   ]
  },
  {
   "cell_type": "code",
   "execution_count": null,
   "id": "ca464cb7",
   "metadata": {},
   "outputs": [],
   "source": []
  }
 ],
 "metadata": {
  "kernelspec": {
   "display_name": "Python 3 (ipykernel)",
   "language": "python",
   "name": "python3"
  },
  "language_info": {
   "codemirror_mode": {
    "name": "ipython",
    "version": 3
   },
   "file_extension": ".py",
   "mimetype": "text/x-python",
   "name": "python",
   "nbconvert_exporter": "python",
   "pygments_lexer": "ipython3",
   "version": "3.8.10"
  }
 },
 "nbformat": 4,
 "nbformat_minor": 5
}
