{
 "cells": [
  {
   "cell_type": "markdown",
   "id": "1f8e0d17",
   "metadata": {},
   "source": [
    "### Problem:\n",
    "<p style=\"font-size:120%\">\n",
    "Given an array and you need to tell wheather it's monotonic or not.<br><br>\n",
    "    \n",
    "An array is called a `Monotonic Array` if all of values of array are either increasing or decreasing or equal in sequence.<br><br>\n",
    "\n",
    "Ex.<br><br>\n",
    "arr1 = [-1, -5, -10, -1100, -1100, -1101, -1102, -9001] is `Monotonic`<br><br>\n",
    "arr2 = [2, 4, 6, 7, 8, 19, 20] is `Monotonic`<br><br>\n",
    "arr3 = [-1, -5, -10, 10, -1100, -1101, -1102, -9001] is not `Monotonic`  \n",
    "    \n",
    "</p>"
   ]
  },
  {
   "cell_type": "code",
   "execution_count": 41,
   "id": "c95e712d",
   "metadata": {},
   "outputs": [],
   "source": [
    "def is_monotonic(arr):\n",
    "    \n",
    "    if len(arr) == 1:\n",
    "        return True\n",
    "    \n",
    "    n = len(arr)\n",
    "    first = arr[0]\n",
    "    second = arr[1]\n",
    "      \n",
    "    increasing_flag = False\n",
    "    decreasing_flag = False\n",
    "    \n",
    "    # Checking if array is Increasing Monotonic\n",
    "    if first <= second:\n",
    "        increasing_flag = True\n",
    "        for i in range(2,n):\n",
    "            if arr[i] < arr[i-1]:\n",
    "                increasing_flag = False\n",
    "                break\n",
    "    \n",
    "    # Checking if array is Decreasing Monotonic\n",
    "    if first >= second:\n",
    "        decreasing_flag = True\n",
    "        for i in range(2,n):\n",
    "            if arr[i] > arr[i-1]:\n",
    "                decreasing_flag = False\n",
    "                break\n",
    "                \n",
    "    return increasing_flag or decreasing_flag"
   ]
  },
  {
   "cell_type": "code",
   "execution_count": 42,
   "id": "63f95e87",
   "metadata": {},
   "outputs": [
    {
     "name": "stdout",
     "output_type": "stream",
     "text": [
      "True\n",
      "True\n",
      "False\n"
     ]
    }
   ],
   "source": [
    "arr1 = [-1, -5, -10, -1100, -1100, -1101, -1102, -9001]\n",
    "arr2 = [2, 4, 6, 7, 8, 19, 20]\n",
    "arr3 = [-1, -5, -10, 10, -1100, -1101, -1102, -9001]\n",
    "print(is_monotonic(arr1))\n",
    "print(is_monotonic(arr2))\n",
    "print(is_monotonic(arr3))"
   ]
  },
  {
   "cell_type": "markdown",
   "id": "24ffe9c5",
   "metadata": {},
   "source": [
    "### Time and Space Complexity:\n",
    "<p style=\"font-size:120%\">\n",
    "Time-complexity - O(N) <>\n",
    "</p>"
   ]
  }
 ],
 "metadata": {
  "kernelspec": {
   "display_name": "Python 3 (ipykernel)",
   "language": "python",
   "name": "python3"
  },
  "language_info": {
   "codemirror_mode": {
    "name": "ipython",
    "version": 3
   },
   "file_extension": ".py",
   "mimetype": "text/x-python",
   "name": "python",
   "nbconvert_exporter": "python",
   "pygments_lexer": "ipython3",
   "version": "3.8.10"
  }
 },
 "nbformat": 4,
 "nbformat_minor": 5
}
