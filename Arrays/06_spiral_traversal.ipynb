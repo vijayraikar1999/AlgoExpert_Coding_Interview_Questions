{
 "cells": [
  {
   "cell_type": "markdown",
   "id": "73cf2d07",
   "metadata": {},
   "source": [
    "### Problem:\n",
    "<p style=\"font-size:120%\">Given a two dimensional array, and you need to return an array which contain all the element of 2d array in spiral form in clock-wise direction.<br><br>\n",
    "    \n",
    "Ex.<br>\n",
    "2d_arr =  <br>[[1, 2, 3, 4],<br>\n",
    "          [12, 13, 14, 5],<br>\n",
    "          [11, 16, 15, 6],<br>\n",
    "          [10, 9, 8, 7]]<br>   \n",
    "so, the output array will be: [1, 2, 3, 4, 5, 6, 7, 8, 9, 10, 11, 12, 13, 14, 15, 16]    \n",
    "    \n",
    "</p>"
   ]
  },
  {
   "cell_type": "markdown",
   "id": "833708c1",
   "metadata": {},
   "source": [
    "### Solution - 1:"
   ]
  },
  {
   "cell_type": "code",
   "execution_count": 49,
   "id": "3c783645",
   "metadata": {},
   "outputs": [],
   "source": [
    "def spiral_list(arr):\n",
    "    \n",
    "    m = len(arr)\n",
    "    n = len(arr[0])\n",
    "    \n",
    "    n = len(arr)\n",
    "    is_visited = [[False for j in range(n)] for i in range(m)]\n",
    "    \n",
    "    i = 0\n",
    "    j = -1\n",
    "    ansList = []\n",
    "    \n",
    "    while 1:\n",
    "        \n",
    "        # moving in right direction\n",
    "        j += 1\n",
    "        if i < m and j < n and is_visited[i][j] == True:\n",
    "            break\n",
    "        while j < n and is_visited[i][j] == False:\n",
    "            ansList.append(arr[i][j])\n",
    "            is_visited[i][j] = True\n",
    "            if j < n-1 and is_visited[i][j+1] == False:\n",
    "                j += 1\n",
    "               \n",
    "        # moving in downward direction\n",
    "        i += 1\n",
    "        if i < m and j < n and is_visited[i][j] == True:\n",
    "            break\n",
    "        while i < m and is_visited[i][j] == False:\n",
    "            ansList.append(arr[i][j])\n",
    "            is_visited[i][j] = True\n",
    "            if i < m-1 and is_visited[i+1][j] == False:\n",
    "                i += 1\n",
    "            \n",
    "            \n",
    "        # moving in left direction\n",
    "        j -= 1\n",
    "        if i < m and j < n and is_visited[i][j] == True:\n",
    "            break\n",
    "        while j > 0 and is_visited[i][j] == False:\n",
    "            ansList.append(arr[i][j])\n",
    "            last_endpoint = [i, j]\n",
    "            is_visited[i][j] = True\n",
    "            if j > 0 and is_visited[i][j-1] == False:\n",
    "                j -= 1\n",
    "            \n",
    "            \n",
    "        # moving in upword direction\n",
    "        i -= 1\n",
    "        if i < m and j < n and is_visited[i][j] == True:\n",
    "            break\n",
    "        while i > 0 and is_visited[i][j] == False:\n",
    "            ansList.append(arr[i][j])\n",
    "            is_visited[i][j] = True\n",
    "            if i > 0 and is_visited[i-1][j] == False:\n",
    "                i -= 1\n",
    "            \n",
    "    return ansList    "
   ]
  },
  {
   "cell_type": "code",
   "execution_count": 50,
   "id": "bb8c3e2f",
   "metadata": {},
   "outputs": [],
   "source": [
    "arr = [[1, 2, 3, 4],\n",
    "       [12, 13, 14, 5],\n",
    "       [11, 16, 15, 6],\n",
    "       [10, 9, 8, 7]]"
   ]
  },
  {
   "cell_type": "code",
   "execution_count": 51,
   "id": "64a56354",
   "metadata": {},
   "outputs": [
    {
     "data": {
      "text/plain": [
       "[[1, 2, 3, 4], [12, 13, 14, 5], [11, 16, 15, 6], [10, 9, 8, 7]]"
      ]
     },
     "execution_count": 51,
     "metadata": {},
     "output_type": "execute_result"
    }
   ],
   "source": [
    "arr"
   ]
  },
  {
   "cell_type": "code",
   "execution_count": 52,
   "id": "b37b08ee",
   "metadata": {},
   "outputs": [
    {
     "data": {
      "text/plain": [
       "[1, 2, 3, 4, 5, 6, 7, 8, 9, 11, 12, 13, 14, 15, 16]"
      ]
     },
     "execution_count": 52,
     "metadata": {},
     "output_type": "execute_result"
    }
   ],
   "source": [
    "spiral_list(arr)"
   ]
  },
  {
   "cell_type": "code",
   "execution_count": 53,
   "id": "cc9cf4a2",
   "metadata": {},
   "outputs": [],
   "source": [
    "arr = [[1, 2, 3, 4],\n",
    "       [5, 6, 7, 8],\n",
    "       [9, 10, 11, 12],\n",
    "       [13, 14, 15, 16]]"
   ]
  },
  {
   "cell_type": "code",
   "execution_count": 54,
   "id": "a8eb3483",
   "metadata": {},
   "outputs": [
    {
     "data": {
      "text/plain": [
       "[1, 2, 3, 4, 8, 12, 16, 15, 14, 9, 5, 6, 7, 11, 10]"
      ]
     },
     "execution_count": 54,
     "metadata": {},
     "output_type": "execute_result"
    }
   ],
   "source": [
    "spiral_list(arr)"
   ]
  },
  {
   "cell_type": "markdown",
   "id": "10f85418",
   "metadata": {},
   "source": [
    "### Solution - 2"
   ]
  },
  {
   "cell_type": "code",
   "execution_count": 68,
   "id": "3e24ae72",
   "metadata": {},
   "outputs": [],
   "source": [
    "def spiral_list_1(arr):\n",
    "    m = len(arr)\n",
    "    n = len(arr[0])\n",
    "    \n",
    "    start_row = 0\n",
    "    start_col = 0\n",
    "    end_row = m - 1\n",
    "    end_col = n - 1\n",
    "    \n",
    "    ansList = []\n",
    "    \n",
    "    while start_row <= end_row and start_col <= end_col:\n",
    "        \n",
    "        # moving in right direction\n",
    "        i = start_row\n",
    "        for j in range(start_col, end_col+1):\n",
    "            ansList.append(arr[i][j])\n",
    "        \n",
    "        # moving in downward direction\n",
    "        j = end_col\n",
    "        for i in range(start_row+1, end_row+1):\n",
    "            ansList.append(arr[i][j])\n",
    "        \n",
    "        # moving in left direction\n",
    "        i = end_row\n",
    "        for j in range(end_col-1, start_col-1, -1):\n",
    "            ansList.append(arr[i][j])\n",
    "        \n",
    "        # moving in upward direction\n",
    "        j = start_col\n",
    "        for i in range(end_row-1, start_row, -1):\n",
    "            ansList.append(arr[i][j])\n",
    "            \n",
    "        start_row += 1\n",
    "        start_col += 1\n",
    "        end_row -= 1\n",
    "        end_col -= 1\n",
    "        \n",
    "    return ansList    \n",
    "            "
   ]
  },
  {
   "cell_type": "code",
   "execution_count": 69,
   "id": "7fa08db5",
   "metadata": {},
   "outputs": [
    {
     "data": {
      "text/plain": [
       "[1, 2, 3, 4, 5, 6, 7, 8, 9, 10, 11, 12, 13, 14, 15, 16]"
      ]
     },
     "execution_count": 69,
     "metadata": {},
     "output_type": "execute_result"
    }
   ],
   "source": [
    "arr = [[1, 2, 3, 4],\n",
    "       [12, 13, 14, 5],\n",
    "       [11, 16, 15, 6],\n",
    "       [10, 9, 8, 7]]\n",
    "\n",
    "spiral_list_1(arr)"
   ]
  },
  {
   "cell_type": "code",
   "execution_count": 73,
   "id": "d11d3d81",
   "metadata": {},
   "outputs": [
    {
     "data": {
      "text/plain": [
       "[1, 2, 3, 4, 8, 12, 16, 15, 14, 13, 9, 5, 6, 7, 11, 10]"
      ]
     },
     "execution_count": 73,
     "metadata": {},
     "output_type": "execute_result"
    }
   ],
   "source": [
    "arr = [[1, 2, 3, 4],\n",
    "       [5, 6, 7, 8],\n",
    "       [9, 10, 11, 12],\n",
    "       [13, 14, 15, 16]]\n",
    "\n",
    "spiral_list_1(arr)"
   ]
  },
  {
   "cell_type": "code",
   "execution_count": null,
   "id": "69a668dd",
   "metadata": {},
   "outputs": [],
   "source": []
  },
  {
   "cell_type": "code",
   "execution_count": null,
   "id": "09a13544",
   "metadata": {},
   "outputs": [],
   "source": []
  }
 ],
 "metadata": {
  "kernelspec": {
   "display_name": "Python 3 (ipykernel)",
   "language": "python",
   "name": "python3"
  },
  "language_info": {
   "codemirror_mode": {
    "name": "ipython",
    "version": 3
   },
   "file_extension": ".py",
   "mimetype": "text/x-python",
   "name": "python",
   "nbconvert_exporter": "python",
   "pygments_lexer": "ipython3",
   "version": "3.8.10"
  }
 },
 "nbformat": 4,
 "nbformat_minor": 5
}
