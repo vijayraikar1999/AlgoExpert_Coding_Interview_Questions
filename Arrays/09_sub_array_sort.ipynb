{
 "cells": [
  {
   "cell_type": "markdown",
   "id": "455d2223",
   "metadata": {},
   "source": [
    "### Problem:\n",
    "<p style=\"font-size:120%\">Given an array of len N, you need to find out the first and final index of subarray, such that if we sort that part of the array, the whole array will be sorted.<br><br>\n",
    "Ex.<br>\n",
    "    arr = [1, 2, 4, 7, 10, 11, 7, 12, 6, 7, 16, 18, 19]<br>\n",
    "    ans: [3, 9]\n",
    "    subarray: [7, 10, 11, 7, 12, 6, 7]\n",
    "</p>"
   ]
  },
  {
   "cell_type": "code",
   "execution_count": 4,
   "id": "122e90c4",
   "metadata": {},
   "outputs": [],
   "source": [
    "def sub_array_sort(arr):\n",
    "    sorted_arr = sorted(arr)\n",
    "    min_index = -1\n",
    "    max_index = -1\n",
    "    n = len(arr)\n",
    "    for i, ele in enumerate(arr):\n",
    "        if ele != sorted_arr[i]:\n",
    "            min_index = i\n",
    "            break\n",
    "    for i in range(n-1, -1, -1):\n",
    "        if arr[i] != sorted_arr[i]:\n",
    "            max_index = i\n",
    "            break\n",
    "            \n",
    "    return [min_index, max_index]        "
   ]
  },
  {
   "cell_type": "code",
   "execution_count": 5,
   "id": "92662453",
   "metadata": {},
   "outputs": [
    {
     "data": {
      "text/plain": [
       "[3, 9]"
      ]
     },
     "execution_count": 5,
     "metadata": {},
     "output_type": "execute_result"
    }
   ],
   "source": [
    "arr = [1, 2, 4, 7, 10, 11, 7, 12, 6, 7, 16, 18, 19]\n",
    "sub_array_sort(arr)"
   ]
  },
  {
   "cell_type": "markdown",
   "id": "7d0970fa",
   "metadata": {},
   "source": [
    "### Time and Space Complexity\n",
    "<p style=\"font-size:120%\">\n",
    "Time Complexity - N*log(N)<br>\n",
    "Space Complexity - O(N)    \n",
    "</p>"
   ]
  },
  {
   "cell_type": "code",
   "execution_count": null,
   "id": "82a9ab29",
   "metadata": {},
   "outputs": [],
   "source": []
  }
 ],
 "metadata": {
  "kernelspec": {
   "display_name": "Python 3 (ipykernel)",
   "language": "python",
   "name": "python3"
  },
  "language_info": {
   "codemirror_mode": {
    "name": "ipython",
    "version": 3
   },
   "file_extension": ".py",
   "mimetype": "text/x-python",
   "name": "python",
   "nbconvert_exporter": "python",
   "pygments_lexer": "ipython3",
   "version": "3.8.10"
  }
 },
 "nbformat": 4,
 "nbformat_minor": 5
}
