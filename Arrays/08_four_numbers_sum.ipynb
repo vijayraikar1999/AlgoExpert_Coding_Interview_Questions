{
 "cells": [
  {
   "cell_type": "markdown",
   "id": "b912a402",
   "metadata": {},
   "source": [
    "### Problem:\n",
    "<p style=\"font-size:120%\">\n",
    "Given an array of n distinct integers, you need to find out combinations of 4 numbers such that the sum of those four numbers are equals to the given target_sum value.<br><br>\n",
    "\n",
    "Ex.<br>\n",
    "    arr = [7, 6, 4, -1, 1, 2]<br>\n",
    "    target_sum = 16<br>\n",
    "    \n",
    "    answer = [[-1, 4, 6, 7], [1, 2, 6, 7]]\n",
    "    \n",
    "</p>"
   ]
  },
  {
   "cell_type": "code",
   "execution_count": 1,
   "id": "b4d3cdb1",
   "metadata": {},
   "outputs": [],
   "source": [
    "def three_number_sum_improved1(arr, target_sum):\n",
    "    arr.sort() \n",
    "    n = len(arr)\n",
    "    ansList = []\n",
    "    for i, value in enumerate(arr):\n",
    "        curr_sum_candidate = value\n",
    "        left_pointer = i+1\n",
    "        right_pointer = n-1\n",
    "        while left_pointer < right_pointer:\n",
    "            curr_sum = curr_sum_candidate + arr[left_pointer] + arr[right_pointer]\n",
    "            if curr_sum == target_sum:\n",
    "                ansList.append([curr_sum_candidate, arr[left_pointer], arr[right_pointer]])\n",
    "                left_pointer += 1\n",
    "                right_pointer -= 1\n",
    "                \n",
    "            if curr_sum < target_sum:\n",
    "                left_pointer += 1\n",
    "                \n",
    "            if curr_sum > target_sum:\n",
    "                right_pointer -= 1\n",
    "                \n",
    "    return ansList "
   ]
  },
  {
   "cell_type": "code",
   "execution_count": 41,
   "id": "02ad5090",
   "metadata": {},
   "outputs": [],
   "source": [
    "def four_number_sum(arr, target_sum):\n",
    "    ansList = []\n",
    "    n = len(arr)\n",
    "    for i, ele in enumerate(arr[:n-2]):\n",
    "        three_list = three_number_sum_improved1(arr[i+1:], target_sum - ele)\n",
    "        if three_list == []:\n",
    "            continue\n",
    "            \n",
    "        for i, li in enumerate(three_list):\n",
    "            three_list[i].append(ele)\n",
    "            ansList.append(three_list[i])\n",
    "            \n",
    "            \n",
    "    return ansList        \n",
    "        "
   ]
  },
  {
   "cell_type": "code",
   "execution_count": 43,
   "id": "288e25e3",
   "metadata": {},
   "outputs": [
    {
     "name": "stdout",
     "output_type": "stream",
     "text": [
      "[[-1, 4, 6, 7], [1, 2, 6, 7]]\n"
     ]
    }
   ],
   "source": [
    "arr = [7, 6, 4, -1, 1, 2]\n",
    "target_sum = 16\n",
    "ans = four_number_sum(arr, target_sum)\n",
    "print(ans)"
   ]
  },
  {
   "cell_type": "code",
   "execution_count": null,
   "id": "98fe0259",
   "metadata": {},
   "outputs": [],
   "source": []
  }
 ],
 "metadata": {
  "kernelspec": {
   "display_name": "Python 3 (ipykernel)",
   "language": "python",
   "name": "python3"
  },
  "language_info": {
   "codemirror_mode": {
    "name": "ipython",
    "version": 3
   },
   "file_extension": ".py",
   "mimetype": "text/x-python",
   "name": "python",
   "nbconvert_exporter": "python",
   "pygments_lexer": "ipython3",
   "version": "3.8.10"
  }
 },
 "nbformat": 4,
 "nbformat_minor": 5
}
