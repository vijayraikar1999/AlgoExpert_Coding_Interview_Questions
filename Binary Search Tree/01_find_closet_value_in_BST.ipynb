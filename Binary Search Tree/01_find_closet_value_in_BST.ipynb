{
 "cells": [
  {
   "cell_type": "markdown",
   "id": "10bb374b",
   "metadata": {},
   "source": [
    "### Problem:\n",
    "\n",
    "Given a binary search tree and an ineger value, find out the closet value present in BST to the given number."
   ]
  },
  {
   "cell_type": "code",
   "execution_count": 2,
   "id": "f34b691f",
   "metadata": {},
   "outputs": [],
   "source": [
    "class Node:\n",
    "    def __init__(self, value):\n",
    "        self.value = value\n",
    "        self.left = None\n",
    "        self.right = None\n",
    "                "
   ]
  },
  {
   "cell_type": "markdown",
   "id": "dd2e8550",
   "metadata": {},
   "source": [
    "### Recursive algorithm"
   ]
  },
  {
   "cell_type": "code",
   "execution_count": null,
   "id": "b453f5c6",
   "metadata": {},
   "outputs": [],
   "source": [
    "def closest_value_helper_function(tree, target, curr_closest):\n",
    "    if tree is None:\n",
    "        return curr_closest\n",
    "    \n",
    "    if abs(tree.value - target) < abs(target - curr_closest):\n",
    "        curr_closest = tree.value\n",
    "    \n",
    "    if tree.value > target:\n",
    "        closest_value_helper_function(tree.left, target, curr_closest)\n",
    "    \n",
    "    elif tree.value < target:\n",
    "        closest_value_helper_function(tree.right, target, curr_closest)\n",
    "        \n",
    "    else:\n",
    "        return curr_closest\n",
    "        "
   ]
  },
  {
   "cell_type": "code",
   "execution_count": 3,
   "id": "b858ba7f",
   "metadata": {},
   "outputs": [],
   "source": [
    "def closest_value_in_bst(tree, target):\n",
    "    return closest_value_helper_function(tree, target, float('inf'))"
   ]
  },
  {
   "cell_type": "markdown",
   "id": "57ce9766",
   "metadata": {},
   "source": [
    "### Iterative algorithm"
   ]
  },
  {
   "cell_type": "code",
   "execution_count": 4,
   "id": "f6d03366",
   "metadata": {},
   "outputs": [],
   "source": [
    "def closest_value_helper_function_iterative(tree, target):\n",
    "    curr_closest = float('inf')\n",
    "    curr_node = tree\n",
    "    while curr_node is not None:\n",
    "        if abs(curr_node.value - target) < abs(curr_closest - target):\n",
    "            curr_closest = curr_node.value\n",
    "            \n",
    "        if curr_node.value > target:\n",
    "            curr_node = curr_node.left\n",
    "        \n",
    "        elif curr_node.value < target:\n",
    "            curr_node = curr_node.right\n",
    "            \n",
    "        else:\n",
    "            break\n",
    "            \n",
    "    return curr_closest        \n"
   ]
  },
  {
   "cell_type": "code",
   "execution_count": null,
   "id": "4574ca6c",
   "metadata": {},
   "outputs": [],
   "source": []
  }
 ],
 "metadata": {
  "kernelspec": {
   "display_name": "Python 3 (ipykernel)",
   "language": "python",
   "name": "python3"
  },
  "language_info": {
   "codemirror_mode": {
    "name": "ipython",
    "version": 3
   },
   "file_extension": ".py",
   "mimetype": "text/x-python",
   "name": "python",
   "nbconvert_exporter": "python",
   "pygments_lexer": "ipython3",
   "version": "3.8.10"
  }
 },
 "nbformat": 4,
 "nbformat_minor": 5
}
