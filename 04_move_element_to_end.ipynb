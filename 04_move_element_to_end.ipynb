{
 "cells": [
  {
   "cell_type": "markdown",
   "id": "8ac64b35",
   "metadata": {},
   "source": [
    "### Problem:\n",
    "<p style=\"font-size:120%\">Given an array of size n and a value k, you need to move all of values (equal to k) to the end of the array.\n",
    "<br><br>\n",
    "   Ex. arr = [2, 1, 2, 2, 3, 4, 2]\n",
    "    <br><br>\n",
    "    You need to convert this array to either [4, 1, 3, 2, 2, 2, 2, 2] or [3, 1, 4, 2, 2, 2, 2, 2] or [4, 3, 1, 2, 2, 2, 2, 2] or [1, 3, 4, 2, 2, 2, 2, 2]...\n",
    "</p>"
   ]
  },
  {
   "cell_type": "markdown",
   "id": "56ba59a1",
   "metadata": {},
   "source": [
    "### Solution:\n",
    "<p style=\"font-size:120%\">\n",
    "step-1: create two pointer: left_pointer and right_pointer and set left_pointer to the 0th index and right_pointer to n-1.\n",
    "<br><br>\n",
    "step-2: Swap the values present in pointers if left_pointer contain value k and right_pointer does not contain value k<br><br>\n",
    "step-3: increase the left_pointer if left_pointer does not contain value k.<br><br>\n",
    "step-4: decrease the right_pointer if right_pointer contain value k.<br><br>\n",
    "step-5: repeat whole steps from step-2 to step-5 in a whlie loop, until left_pointer and right_pointer crosses each other.<br><br>    \n",
    "</p>\n"
   ]
  },
  {
   "cell_type": "code",
   "execution_count": 3,
   "id": "df9b42e7",
   "metadata": {},
   "outputs": [],
   "source": [
    "def move_element_to_end(arr, k):\n",
    "    left_pointer = 0\n",
    "    right_pointer = len(arr) - 1\n",
    "    \n",
    "    while left_pointer < right_pointer:\n",
    "        if arr[left_pointer] == 2 and arr[right_pointer] != 2:\n",
    "            arr[left_pointer], arr[right_pointer] = arr[right_pointer], arr[left_pointer]\n",
    "            left_pointer += 1\n",
    "            right_pointer -= 1\n",
    "        else:\n",
    "            if arr[left_pointer] != 2:\n",
    "                left_pointer += 1\n",
    "            if arr[right_pointer] == 2:\n",
    "                right_pointer -= 1\n",
    "                "
   ]
  },
  {
   "cell_type": "code",
   "execution_count": 4,
   "id": "a0c29445",
   "metadata": {},
   "outputs": [
    {
     "name": "stdout",
     "output_type": "stream",
     "text": [
      "array before swaps: \n",
      "[2, 1, 2, 2, 2, 3, 4, 2]\n",
      "array after swaps:\n",
      "[4, 1, 3, 2, 2, 2, 2, 2]\n"
     ]
    }
   ],
   "source": [
    "arr = [2, 1, 2, 2, 2, 3, 4, 2]\n",
    "k = 2\n",
    "print('array before swaps: ')\n",
    "print(arr)\n",
    "move_element_to_end(arr, k)\n",
    "print('array after swaps:')\n",
    "print(arr)\n"
   ]
  },
  {
   "cell_type": "markdown",
   "id": "5c11a96c",
   "metadata": {},
   "source": [
    "### Time and Space complexities:\n",
    "<p style=\"font-size:120%\">\n",
    "Time-complextiy : O(N)<br><br>\n",
    "Space-complexity : O(1)    \n",
    "</p>"
   ]
  },
  {
   "cell_type": "code",
   "execution_count": null,
   "id": "08d70f9c",
   "metadata": {},
   "outputs": [],
   "source": []
  }
 ],
 "metadata": {
  "kernelspec": {
   "display_name": "Python 3 (ipykernel)",
   "language": "python",
   "name": "python3"
  },
  "language_info": {
   "codemirror_mode": {
    "name": "ipython",
    "version": 3
   },
   "file_extension": ".py",
   "mimetype": "text/x-python",
   "name": "python",
   "nbconvert_exporter": "python",
   "pygments_lexer": "ipython3",
   "version": "3.8.10"
  }
 },
 "nbformat": 4,
 "nbformat_minor": 5
}
