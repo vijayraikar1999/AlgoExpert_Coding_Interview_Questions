{
 "cells": [
  {
   "cell_type": "markdown",
   "id": "303d3c5e",
   "metadata": {},
   "source": [
    "### Problem:\n",
    "<p style='font-size:115%'>Given an array of N distinct numbers, you need to find out all the possible triplets whose sum is equal to the given target value.<br><br> Ex. arr = [12, 2, 1, 2, -5, 5, -8, 6] , target = 0 <br><br> possible triplets are: <br> [ [-8, 2, 6], [-8, 3, 5], [-6, 1, 5] ] <br><br> -8 + 2 + 6 = 0 <br> -8 + 3 + 5 = 0 <br> -6 + 1 + 5 = 0</p>\n",
    "\n",
    "#### LeetCode link for similar problem: https://leetcode.com/problems/3sum/\n",
    "\n",
    "### Solutions:"
   ]
  },
  {
   "cell_type": "markdown",
   "id": "9a39172d",
   "metadata": {},
   "source": [
    "#### Solution-1: Brute Force Method\n",
    "\n",
    "<p style='font-size:115%'>The very simple way to solve this problem to to find out all of possible triplets directly and see if their sum is equal to the target value or not.\n",
    "<br>\n",
    "here to find out all the three possible triplets, we need to find all combination of 3 values from n values.\n",
    "<br>\n",
    "so, number of operations will be\n",
    "<br>\n",
    "num_operations = C(n, r)\n",
    "    where n = number of element in list\n",
    "    <br>\n",
    "          r = number of elements to choose from list for sum, for this problem it's 3\n",
    "    <br>\n",
    "    C(n, r) = n* (n-1) * (n-3) / (3 * 2)\n",
    "    <br>\n",
    "    which is O(n^3) solution, not a very good solution for this problem.\n",
    "    <br><br>\n",
    "    \n",
    "    Let's try to do something better.\n",
    "</p>"
   ]
  },
  {
   "cell_type": "markdown",
   "id": "48576a91",
   "metadata": {},
   "source": [
    "#### Solution-2: use the previous solution of two_sum problem.\n",
    "<p style='font-size:115%'>\n",
    "Since we solved the two sum problem earliar in O(n) time complexity.\n",
    "    <br><br>\n",
    "    We can use that for our advantage in order to solve three_sum problem.\n",
    "    <br><br>\n",
    "    we iterate over the list and subtract each value from target, this will lead us to find out two value for our triplets, and we can easily find out those pair using two_sum method.\n",
    "</p>"
   ]
  },
  {
   "cell_type": "code",
   "execution_count": 37,
   "id": "b1e8db40",
   "metadata": {},
   "outputs": [],
   "source": [
    "def two_number_sum_improved(arr, target):\n",
    "    is_present = {}\n",
    "    ansList = []\n",
    "    ansDict = {}\n",
    "    \n",
    "    for value in arr:\n",
    "        is_present[value] = True\n",
    "        \n",
    "    for value in arr:\n",
    "        left_sum = target - value\n",
    "        if is_present.get(left_sum) and value*2 != target:\n",
    "            if not ansDict.get(value):\n",
    "                ansDict[value] = True\n",
    "                ansDict[left_sum] = True\n",
    "                ansList.append([value, left_sum])\n",
    "            \n",
    "    return ansList        \n",
    "        "
   ]
  },
  {
   "cell_type": "code",
   "execution_count": 38,
   "id": "6f5ec27c",
   "metadata": {},
   "outputs": [],
   "source": [
    "def three_number_sum_improved(arr, target):\n",
    "    ansList = []\n",
    "    n = len(arr)\n",
    "    \n",
    "    for i in range(0, n-2):\n",
    "        left_two_sum = target - arr[i]\n",
    "        \n",
    "        left_sum_list = two_number_sum_improved(arr[i+1:], left_two_sum)\n",
    "        \n",
    "        for two_sum_pair in left_sum_list:\n",
    "            ansList.append([arr[i], *two_sum_pair])\n",
    "            \n",
    "    return ansList        \n",
    "        \n",
    "        "
   ]
  },
  {
   "cell_type": "code",
   "execution_count": 39,
   "id": "354844f3",
   "metadata": {},
   "outputs": [
    {
     "name": "stdout",
     "output_type": "stream",
     "text": [
      "[[3, 5, -8], [1, -6, 5], [2, -8, 6]]\n"
     ]
    }
   ],
   "source": [
    "arr = [12, 3, 1, 2, -6, 5, -8, 6]\n",
    "target = 0\n",
    "ans = three_number_sum_improved(arr, target)\n",
    "print(ans)"
   ]
  },
  {
   "cell_type": "markdown",
   "id": "a8e0c764",
   "metadata": {},
   "source": [
    "#### Solution-3: Sort the array and then use the concept of two pointer (left and right pointer) in an array\n",
    "<p style='font-size:115%'>\n",
    "step-1:  Sort the arry\n",
    "    <br><br>\n",
    "step-2: Select first value as a candidate for triplet sum and then do the left and right pointer thing to find out the rest two value for target sum.\n",
    "    <br><br>\n",
    "step-3: Do the same for each next value in list.    \n",
    "</p>\n"
   ]
  },
  {
   "cell_type": "code",
   "execution_count": 40,
   "id": "fbf8ba16",
   "metadata": {},
   "outputs": [],
   "source": [
    "def three_number_sum_improved1(arr, target_sum):\n",
    "    arr.sort() \n",
    "    n = len(arr)\n",
    "    ansList = []\n",
    "    for i, value in enumerate(arr):\n",
    "        curr_sum_candidate = value\n",
    "        left_pointer = i+1\n",
    "        right_pointer = n-1\n",
    "        while left_pointer < right_pointer:\n",
    "            curr_sum = curr_sum_candidate + arr[left_pointer] + arr[right_pointer]\n",
    "            if curr_sum == target_sum:\n",
    "                ansList.append([curr_sum_candidate, arr[left_pointer], arr[right_pointer]])\n",
    "                left_pointer += 1\n",
    "                right_pointer -= 1\n",
    "                \n",
    "            if curr_sum < target_sum:\n",
    "                left_pointer += 1\n",
    "                \n",
    "            if curr_sum > target_sum:\n",
    "                right_pointer -= 1\n",
    "                \n",
    "    return ansList            \n"
   ]
  },
  {
   "cell_type": "code",
   "execution_count": 41,
   "id": "9ddaccfa",
   "metadata": {},
   "outputs": [
    {
     "name": "stdout",
     "output_type": "stream",
     "text": [
      "[[-8, 2, 6], [-8, 3, 5], [-6, 1, 5]]\n"
     ]
    }
   ],
   "source": [
    "ans = three_number_sum_improved1(arr, target)\n",
    "print(ans)"
   ]
  },
  {
   "cell_type": "code",
   "execution_count": null,
   "id": "96980e2b",
   "metadata": {},
   "outputs": [],
   "source": []
  }
 ],
 "metadata": {
  "kernelspec": {
   "display_name": "Python 3 (ipykernel)",
   "language": "python",
   "name": "python3"
  },
  "language_info": {
   "codemirror_mode": {
    "name": "ipython",
    "version": 3
   },
   "file_extension": ".py",
   "mimetype": "text/x-python",
   "name": "python",
   "nbconvert_exporter": "python",
   "pygments_lexer": "ipython3",
   "version": "3.8.10"
  }
 },
 "nbformat": 4,
 "nbformat_minor": 5
}
